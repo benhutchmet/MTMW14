{
 "cells": [
  {
   "cell_type": "code",
   "execution_count": 1,
   "id": "563c540d-c179-4312-9154-a7de4dad8333",
   "metadata": {},
   "outputs": [],
   "source": [
    "# import relevant modules\n",
    "\n",
    "import numpy as np\n",
    "import matplotlib.pyplot as plt"
   ]
  },
  {
   "cell_type": "markdown",
   "id": "94f07589-88d5-438e-bb20-e3248540b9b8",
   "metadata": {},
   "source": [
    "## The ocean recharge oscillator ##\n",
    "\n",
    "This report describes the process of modelling the ocean recharge oscillator (ROM), a reduced coupled model for ENSO illustrating the effects of nonlinearity and forcing, based on the model of Fei-Fei Jin (1997a)."
   ]
  },
  {
   "cell_type": "markdown",
   "id": "3431faeb-a2b0-4527-98c5-0dc2fa07ab50",
   "metadata": {},
   "source": [
    "![frame_0_delay-0.01s.jpg](attachment:5c0a97dc-f0b6-4f07-9e4c-1661e58cfa71.jpg)\n",
    "\n",
    "Figure 3 from Fei-Fei Jin (1997), where (a) shows the time series for SST (in $^{\\circ}C$, solid line) and thermocline depth in the Western Pacific (in 10 m, dashed line) and (b) shows the phase space plot of SST against thermocline depth, with initial conditions of SST at $1.125^{\\circ}C$ and themocline depth in the western Pacific at zero."
   ]
  },
  {
   "cell_type": "markdown",
   "id": "24170e61-00e7-4147-bb21-9e9235da1803",
   "metadata": {},
   "source": [
    "### Governing equations ###\n",
    "\n",
    "Jin's (1997b) ROM is described by two ordinary differential equations\n",
    "\n",
    "$$ \\frac{dh_w}{dt} = -rh_w - \\alpha b T_e - \\alpha \\xi_1 $$\n",
    "\n",
    "$$ \\frac{dT_E}{dt} = R T_E + \\gamma h_w - e_n(h_w + bT_E)^3 + \\gamma \\xi_1 + \\xi_2 $$\n",
    "\n",
    "where the prognostic variables are $T_E$ (east Pacific SST anomaly) and $h_W$ (west Pacific\n",
    "ocean thermocline depth) and other variables are defined in the cell below.\n",
    "\n",
    "For Task A, we consider the neutrial linear (deterministic) ROM, without external forcing ($\\xi_{1,2} = 0$) or nonlinearity ($e_n = 0$). The ODEs above reduce to:\n",
    "\n",
    "$$ \\frac{dh_w}{dt} = -rh_w - \\alpha b T_e $$\n",
    "\n",
    "$$ \\frac{dT_E}{dt} = R T_E + \\gamma h_w $$"
   ]
  },
  {
   "cell_type": "code",
   "execution_count": 2,
   "id": "d54f5f13-9b16-43ea-8edd-805a8a2111a7",
   "metadata": {},
   "outputs": [],
   "source": [
    "# define the global variables\n",
    "\n",
    "# non-dimensionalised parameters\n",
    "\n",
    "T_nd = 7.5 # SST anomaly-scale (kelvin)\n",
    "h_nd = 150 # thermocline depth scale (m)\n",
    "t_nd = 2*30*24*60*60 # time-scale - 2 months in seconds\n",
    "\n",
    "# define the variables for Task A - neutral linear (deterministic) ROM\n",
    "\n",
    "mu_c = 2/3 # critical value for the coupling parameter\n",
    "mu = mu_c # set the coupling value to its critical parameter\n",
    "b_0 = 2.5 # high end value for the coupling parameter\n",
    "b = b_0*mu # measure of the thermocline slope\n",
    "gamma = 0.75 # feedback of the thermocline gradient on the SST gradient\n",
    "c = 1 # damping rate of SST anomalies\n",
    "R = gamma*b - c # describes the Bjerknes positive feedback process\n",
    "r = 0.25 # damping of upper ocean heat content\n",
    "alpha = 0.125 # relates enhanced easterly wind stress to the recharge of ocean heat content\n",
    "e_n = 0 # degree of nonlinearity of ROM\n",
    "xi_1 = 0 # random wind stress forcing added to the system\n",
    "xi_2 = 0 # random heating added to the system\n",
    "\n",
    "dt = 0.1 # time interval - two months split into 10 equal slices"
   ]
  },
  {
   "cell_type": "markdown",
   "id": "e6c9524b-4e12-4643-bab9-16b2105ede65",
   "metadata": {},
   "source": [
    "The most simple time scheme is the explicit euler. The consistency condition forces us to choose $$\\alpha_n = 1$$\n",
    "Given this consistency condition, the scheme reduces to \n",
    "$$ \\frac{q^{n+1} - q^n}{\\Delta t} = f^n$$\n",
    "Where the truncation error is given by\n",
    "$$ \\frac{\\Delta t}{2}q'' + O(\\Delta t^2) = O(\\Delta t)$$\n",
    "Therefore the scheme has first order accuracy"
   ]
  },
  {
   "cell_type": "markdown",
   "id": "4d6710e0-81e0-40f3-9295-b2a8d319c97e",
   "metadata": {},
   "source": [
    "For the neutral linear (deterministic) ROM in task A, the explict euler scheme is given by the following coupled equations:\n",
    "\n",
    "$$ T_E^{N+1} = T_E^N + \\Delta{t}(RT_E^N + \\gamma h_w^N) $$\n",
    "\n",
    "$$ h_w^{N+1} = h_w^N - \\Delta t(rh_w^N + \\alpha b T_e^N) $$"
   ]
  },
  {
   "cell_type": "code",
   "execution_count": 3,
   "id": "5b4b05d9-5564-4585-9b9f-b6c423e18d24",
   "metadata": {},
   "outputs": [],
   "source": [
    "# write a function for the simple explicit euler function\n",
    "\n",
    "def euler(T_init, h_init, mu, R, gamma, e_n, xi_1, xi_2, dt, nt):\n",
    "    \"\"\"Explicit euler scheme for solving the ocean recharge oscillator model using finite differences. Takes T, the SST anomaly, h, the thermocline depth scale, t, the time scale, mu, the coupling value, R, the bjerkness positive feedback, gamma, the feedback of the thermocline gradient on the SST gradient, e_n, the degree of nonlinearity xi_1 and xi_2, the random wind stress and random heating added to the system, dt, the time step size and nt, the number of time steps.\"\"\"\n",
    "\n",
    "    # initialize arrays to store the results\n",
    "    time = np.zeros(nt)\n",
    "    T_e = np.zeros(nt)\n",
    "    h_w = np.zeros(nt)\n",
    "\n",
    "    # set the initial conditions\n",
    "    T_e[0] = T_init\n",
    "    h_w[0] = h_init\n",
    "\n",
    "    # step forward in time with the explicit euler scheme\n",
    "    for i in range(1,nt):\n",
    "\n",
    "        time[i] = i * dt\n",
    "        \n",
    "        # for T - SST anomaly scale\n",
    "        T_e[i] = T_e[i-1] + dt*(R*T_e[i-1] + gamma*h_w[i-1])\n",
    "\n",
    "        # for h - thermocline depth scale\n",
    "        h_w[i] = h_w[i-1] + dt*(r*h_w[i-1] - alpha*b*T_e[i-1])\n",
    "    \n",
    "    return T_e, h_w, time"
   ]
  },
  {
   "cell_type": "markdown",
   "id": "e9041342-6d06-4440-b1a5-d1ec7249ceda",
   "metadata": {},
   "source": [
    "The explicit euler method can be modified to obtain better accuracy through proper choice of the $\\alpha$ 's, if we use $l > 0$. If we consider the case $l=1$. This scheme is known as Adams-Bashforth, and reduces to\n",
    "\n",
    "$$ \\frac{q^{n+1} - q^n}{\\Delta t} = \\alpha_n f^n + \\alpha_{n-1}f^{n+1} $$\n",
    "\n",
    "The consistency condition reduces to\n",
    "\n",
    "$$ \\alpha_n + \\alpha_{n+1} = 1 $$\n",
    "\n",
    "And the truncation error is\n",
    "\n",
    "$$ \\varepsilon = \\Delta t q'' \\biggl( \\alpha_{n-1} + \\frac{1}{2} \\biggr) + O(\\Delta t^2) $$\n",
    "\n",
    "Giving second order accuracy"
   ]
  },
  {
   "cell_type": "markdown",
   "id": "5cb0385d-9466-4720-9876-43c7ec5a75ab",
   "metadata": {},
   "source": [
    "For the neutral linear (deterministic) ROM in task A, the Adams-Bashforth scheme is given by the following coupled equations:\n",
    "\n",
    "$$ T_E^{N+1} = T_E^N + \\Delta{t} \\biggl(\\frac{3}{2}(RT_E^N + \\gamma h_w^N) - \\frac{1}{2} (RT_E^{N-1} + \\gamma h_w^{N-1}) \\biggr) $$\n",
    "\n",
    "$$ h_w^{N+1} = h_w^N + \\Delta t \\biggl(-\\frac{3}{2}(rh_w^N + \\alpha b T_e^N) + \\frac{1}{2}(rh_w^{N-1} + \\alpha b T_e^{N-1}) \\biggr) $$"
   ]
  },
  {
   "cell_type": "code",
   "execution_count": 4,
   "id": "9e53dc5d-26f4-47b4-aba1-ed88bf15b2e3",
   "metadata": {},
   "outputs": [],
   "source": [
    "def adams_bashforth(T_init, h_init, mu, R, gamma, e_n, xi_1, xi_2, dt, nt):\n",
    "    \"\"\"Modified euler scheme to give Adams-Bashforth time scheme for modelling the ocean recharge oscillator model using finite difference. Should give second order accuracy. Takes T, the SST anomaly, h, the thermocline depth scale, t, the time scale, mu, the coupling value, R, the bjerknes positive feedback, gamma, the feedback of the thermocline gradient on  the SST gradient, e_n, the degree of nonlinearity xi_1 and xi_2, the random wind stress and random heating added to the system, dt, the size of the timestep and nt, the number of timesteps.\"\"\"\n",
    "\n",
    "    # initialize arrays to store the results\n",
    "    time = np.zeros(nt)\n",
    "    T_e = np.zeros(nt)\n",
    "    h_w = np.zeros(nt)\n",
    "\n",
    "    # set the initial conditions\n",
    "    T_e[0] = T_init\n",
    "    h_w[0] = h_init\n",
    "    \n",
    "    # calculate the 1th value using the explicit euler\n",
    "    T_e[1] = T_e[0] + dt*(R*T_e[0] + gamma*h_w[0])\n",
    "    h_w[1] = h_w[0] + dt*(r*h_w[0] + alpha*b*T_e[0])\n",
    "    \n",
    "    # step forward in time with the Adams-Bashforth scheme\n",
    "    for i in range(2,nt):\n",
    "        \n",
    "        # time variable\n",
    "        time[i] = i * dt\n",
    "        \n",
    "        # for T - SST anomaly scale\n",
    "        T_e[i] = T_e[i-1] + dt*(3/2*(R*T_e[i-1] + gamma*h_w[i-1]) - 1/2*(R*T_e[i-2] + gamma*h_w[i-2]))\n",
    "\n",
    "        # for h - thermocline depth scale\n",
    "        h_w[i] = h_w[i-1] + dt*(-3/2*(r*h_w[i-1] + alpha*b*T_e[i-1]) + 1/2*(r*h_w[i-2] + alpha*b*T_e[i-2]))\n",
    "    \n",
    "    return T_e, h_w, time"
   ]
  },
  {
   "cell_type": "markdown",
   "id": "6e0b2239-ea55-482e-b6c2-6ab5894bc8fb",
   "metadata": {},
   "source": [
    "The trapezoidal implicit scheme has second order accuracy and is given by\n",
    "\n",
    "$$ \\frac{q^{n+1} - q^n}{\\Delta t} = \\beta f^{n+1} + \\alpha_n f^n $$\n",
    "\n",
    "With coefficients\n",
    "\n",
    "$$ \\beta = \\alpha = \\frac{1}{2} $$\n",
    "\n",
    "And truncation error\n",
    "\n",
    "$$ \\varepsilon = \\Delta t q''\\biggl(\\frac{1}{2} - \\beta \\biggr) + O(\\Delta t^2) $$"
   ]
  },
  {
   "cell_type": "markdown",
   "id": "1c0b3944-2c84-4075-8d54-5fa21a27e8c0",
   "metadata": {},
   "source": [
    "For the neutral linear (deterministic) ROM in task A, the trapezoidal scheme is given by the following coupled equations:\n",
    "\n",
    "$$ T_e^{n+1} = T_e^{n} + \\frac{\\Delta t}{2} \\biggl((RT_e^{n+1} + \\gamma h_w^{n+1}) + (RT_e^{n} + \\gamma h_w^{n})\\biggr) $$\n",
    "\n",
    "$$ h_w^{n+1} = h_w^{n} - \\frac{\\Delta t}{2} \\biggl((rh_w^{n+1} + \\alpha b T_e^{n+1}) + (rh_w^{n} + \\alpha b T_e^{n+1}) \\biggr) $$\n"
   ]
  },
  {
   "cell_type": "code",
   "execution_count": 5,
   "id": "cbe4d96a-08d2-4f0b-bab5-95a1df41df54",
   "metadata": {},
   "outputs": [],
   "source": [
    "def trapezoidal(T_init, h_init, mu, R, gamma, e_n, xi_1, xi_2, dt, nt):\n",
    "    \"\"\"Implicit trapezoidal finite difference scheme for modelling the ocean recharge oscillator model. Takes T_init, the initial SST anomaly, h_init, the initial thermocline depth scale, mu, the coupling value, R, the bjerknes positive feedback, gamma, the feedback of the thermocline gradient on the SST gradient, e_n, the degree of nonlinearity xi_1 and xi_2, the random wind stress and random heating added to the system, dt, the size of the time steps and nt the number of time steps.\"\"\"\n",
    "    \n",
    "    # initialize arrays to store the results\n",
    "    time = np.zeros(nt)\n",
    "    T_e = np.zeros(nt)\n",
    "    h_w = np.zeros(nt)\n",
    "\n",
    "    # set the initial conditions\n",
    "    T_e[0] = T_init\n",
    "    h_w[0] = h_init\n",
    "\n",
    "    # step forward in time with the general implementation of the implicit trapezoidal scheme\n",
    "    for i in range(1,nt):\n",
    "        \n",
    "        # time variable\n",
    "        time[i] = i * dt\n",
    "        \n",
    "        # for T - SST anomaly scale\n",
    "        T_e[i] = T_e[i-1] + dt/2*((R*T_e[i] + gamma*h_w[i]) + (R*T_e[i-1] + gamma*h_w[i-1]))\n",
    "\n",
    "        # for h - thermocline depth scale\n",
    "        h_w[i] = h_w[i-1] - dt/2*((r*h_w[i] + alpha*b*T_e[i]) + (r*h_w[i-1] + alpha*b*T_e[i-1]))\n",
    "    \n",
    "    return T_e, h_w, time"
   ]
  },
  {
   "cell_type": "markdown",
   "id": "2e74d7d5-6c4e-47c5-a031-7eb04d290938",
   "metadata": {},
   "source": [
    "One example of an iterative \"predictor-corrector\" time schemes is the fourth order accurate Runge-Kutta, which is given by\n",
    "\n",
    "$$ q^{n+1} = q^n + \\Delta t \\frac{1}{6} \\bigl(k_1 + 2k_2 + 2k_3 + k_4 \\bigr) $$\n",
    "\n",
    "Where the $k$'s are given by\n",
    "\n",
    "$$ k_1 = f(q^n,n \\Delta t) $$\n",
    "\n",
    "$$ k_2 = f \\biggl[q^n + \\frac{k_1 \\Delta t}{2}, \\biggl(n+\\frac{1}{2} \\biggr) \\Delta t \\biggr] $$\n",
    "\n",
    "$$ k_3 = f \\biggl[q^n + \\frac{k_2 \\Delta t}{2}, \\biggl(n+\\frac{1}{2} \\biggr) \\Delta t \\biggr] $$\n",
    "\n",
    "$$ k_4 = f \\bigl[q^n + k_3 \\Delta t,(n+1) \\Delta t \\bigr] $$\n",
    "\n",
    "Each of the $k$'s can be interpreted as an approximation to $f$. Each of the $k$'s have to be evaluated successively, which means that the function $f$ has to be evaluated four times to take one time step. None of these $f$'s can be \"re-used\" on the next timestep. For this reason, long time steps should be used with this scheme."
   ]
  },
  {
   "cell_type": "markdown",
   "id": "31eacd76-8f7c-4199-b0f1-9fd6eb712255",
   "metadata": {},
   "source": [
    "Let's consider the simple implementation of the four step Runge-Kutte for Task A where K and l represent the components of T and h respectively.\n",
    "\n",
    "$$ k_1 = f(T_e,h_w,t) $$\n",
    "\n",
    "$$ l_1 = f(T_e,h_w,t) $$\n",
    "\n",
    "Where $k$ and $l$ are approximations to a coupled set of functions $f$ which can be expressed as a function of T_e, the temperature, h_w, the thermocline depth and t, the timestep. For the simple ROM, $k_1$ and $l_1$ are given by:\n",
    "\n",
    "$$ k_1 =  R T_E + \\gamma h_w $$\n",
    "\n",
    "$$ l_1 = -rh_w - \\alpha b T_e $$\n",
    "\n",
    "Thus, it follows that $k_2$, $k_3$ and $k_4$ (and their $l$'s) are given by the following:\n",
    "\n",
    "$$ k_2 = R \\biggl(T_e + \\frac{k_1 \\Delta t}{2} \\biggr) + \\gamma \\biggl(h_w + \\frac{l_1 \\Delta t}{2} \\biggr) $$\n",
    "\n",
    "$$ l_2 = -r \\biggl(h_w + \\frac{l_1 \\Delta t}{2} \\biggr) - \\alpha b \\biggl(T_e + \\frac{k_1 \\Delta t}{2} \\biggr) $$\n",
    "\n",
    "$$ k_3 = R \\biggl(T_e + \\frac{k_2 \\Delta t}{2} \\biggr) + \\gamma \\biggl(h_w + \\frac{l_2 \\Delta t}{2} \\biggr) $$\n",
    "\n",
    "$$ l_3 = -r \\biggl(h_w + \\frac{l_2 \\Delta t}{2} \\biggr) - \\alpha b \\biggl(T_e + \\frac{k_2 \\Delta t}{2} \\biggr) $$\n",
    "\n",
    "$$ k_4 = R (T_e + k_3 \\Delta t) + \\gamma (h_w + l_3 \\Delta t ) $$\n",
    "\n",
    "$$ l_4 = -r (h_w + l_3 \\Delta t) - \\alpha b (T_e + k_3 \\Delta t) $$\n"
   ]
  },
  {
   "cell_type": "code",
   "execution_count": 36,
   "id": "0589f670-dacc-4eed-8f2b-e0b16b18bca1",
   "metadata": {},
   "outputs": [
    {
     "name": "stdout",
     "output_type": "stream",
     "text": [
      "-1.6105957031250018\n",
      "1.3183593749999998\n",
      "-3.2560343742370557\n",
      "-0.06694793701172208\n",
      "4.943907695822427\n",
      "-3.908110968768594\n",
      "9.409444045902974\n",
      "0.3970901612774602\n",
      "-15.146166472668364\n",
      "11.57501791321279\n"
     ]
    }
   ],
   "source": [
    "def runge_kutta(T_e, h_w, mu, R, gamma, e_n, xi_1, xi_2, dt, nt):\n",
    "    \"\"\"Fourth-order iterative Runge Kutta scheme for simple set of coupled ODEs in task 1\"\"\"\n",
    "    # need to fill in the parameters here\n",
    "\n",
    "    k_1 = R*T_e + gamma * h_w\n",
    "    l_1 = -r*h_w - alpha*b*T_e\n",
    "\n",
    "    k_2 = R*(T_e + dt/2*k_1) + gamma*(h_w + dt/2*l_1)\n",
    "    l_2 = -r*(h_w + dt/2*l_1) - alpha*b*(T_e + dt/2*k_1)\n",
    "\n",
    "    k_3 = R*(T_e + dt/2*k_2) + gamma*(h_w + dt/2*l_2)\n",
    "    l_3 = -r*(h_w + dt/2*l_2) - alpha*b*(T_e + dt/2*k_2)\n",
    "\n",
    "    k_4 = R*(T_e + dt*k_3) + gamma*(h_w + dt*l_3)\n",
    "    l_4 = -r*(h_w + dt*l_3) - alpha*b*(T_e + dt*k_3)\n",
    "\n",
    "    T_e_next = T_e + dt/6*(k_1 + 2*k_2 + 2*k_3 + k_4)\n",
    "    h_w_next = h_w + dt/6*(l_1 + 2*l_2 + 2*l_3 + l_4)\n",
    "\n",
    "    return T_e_next, h_w_next\n",
    "\n",
    "# initial conditions\n",
    "T_e = 1.125\n",
    "h_w = 0\n",
    "\n",
    "dt = 10\n",
    "nt = 1000\n",
    "\n",
    "T_e_test, h_w_test = runge_kutta(T_e, h_w, mu, R, gamma, e_n, xi_1, xi_2, dt, nt)\n",
    "\n",
    "print(T_e_test)\n",
    "print(h_w_test)\n",
    "\n",
    "T_e_test2, h_w_test2 = runge_kutta(T_e_test, h_w_test, mu, R, gamma, e_n, xi_1, xi_2, dt, nt)\n",
    "\n",
    "print(T_e_test2)\n",
    "print(h_w_test2)\n",
    "\n",
    "T_e_test3, h_w_test3 = runge_kutta(T_e_test2, h_w_test2, mu, R, gamma, e_n, xi_1, xi_2, dt, nt)\n",
    "\n",
    "print(T_e_test3)\n",
    "print(h_w_test3)\n",
    "\n",
    "T_e_test4, h_w_test4 = runge_kutta(T_e_test3, h_w_test3, mu, R, gamma, e_n, xi_1, xi_2, dt, nt)\n",
    "\n",
    "print(T_e_test4)\n",
    "print(h_w_test4)\n",
    "\n",
    "T_e_test5, h_w_test5 = runge_kutta(T_e_test4, h_w_test4, mu, R, gamma, e_n, xi_1, xi_2, dt, nt)\n",
    "\n",
    "print(T_e_test5)\n",
    "print(h_w_test5)\n",
    "\n",
    "\n",
    "\n",
    "\n"
   ]
  },
  {
   "cell_type": "code",
   "execution_count": 34,
   "id": "10876980-0936-46fe-b13c-88c9fbdb7030",
   "metadata": {},
   "outputs": [
    {
     "name": "stderr",
     "output_type": "stream",
     "text": [
      "/tmp/ipykernel_6336/3463457972.py:14: RuntimeWarning: overflow encountered in double_scalars\n",
      "  k_4 = R*(T_e + dt*k_3) + gamma*(h_w + dt*l_3)\n",
      "/tmp/ipykernel_6336/3463457972.py:14: RuntimeWarning: invalid value encountered in double_scalars\n",
      "  k_4 = R*(T_e + dt*k_3) + gamma*(h_w + dt*l_3)\n",
      "/tmp/ipykernel_6336/3463457972.py:15: RuntimeWarning: overflow encountered in double_scalars\n",
      "  l_4 = -r*(h_w + dt*l_3) - alpha*b*(T_e + dt*k_3)\n",
      "/tmp/ipykernel_6336/3463457972.py:15: RuntimeWarning: invalid value encountered in double_scalars\n",
      "  l_4 = -r*(h_w + dt*l_3) - alpha*b*(T_e + dt*k_3)\n"
     ]
    },
    {
     "data": {
      "image/png": "[encoded data removed]",
      "text/plain": [
       "<Figure size 432x288 with 1 Axes>"
      ]
     },
     "metadata": {
      "needs_background": "light"
     },
     "output_type": "display_data"
    }
   ],
   "source": [
    "# define the number of time steps\n",
    "nt = 1000\n",
    "dt = 100\n",
    "\n",
    "mu=2/3\n",
    "\n",
    "# initialize T_e and h_w as arrays\n",
    "T_e = np.zeros(nt)\n",
    "h_w = np.zeros(nt)\n",
    "time = np.zeros(nt)\n",
    "\n",
    "# define the initial conditions for a run of this function\n",
    "T_e[0] = 1.125\n",
    "h_w[0] = 0\n",
    "\n",
    "# write a for loop to run the function nt times\n",
    "for i in range(1,nt-1):\n",
    "\n",
    "    time[i] = i * dt\n",
    "    \n",
    "    T_e[i], h_w[i] = runge_kutta(T_e[i-1], h_w[i-1], mu, R, gamma, e_n, xi_1, xi_2, dt, nt)\n",
    "\n",
    "#print(T_e)\n",
    "\n",
    "\n",
    "\n",
    "# plot the results as a time series with time on the x-axis and T_e and h_w on the y-axis\n",
    "#\\\\ plot time on the x-axis and T_e on the y-axis\n",
    "plt.plot(time, T_e)\n",
    "#\\\\ plot time on the x-axis and h_w on the y-axis\n",
    "plt.plot(time, h_w)\n",
    "#\\\\ label the x-axis as 'time'\n",
    "plt.xlabel('time')\n",
    "#\\\\ label the y-axis as 'T_e and h_w'\n",
    "plt.ylabel('T_e and h_w')\n",
    "#\\\\ title the plot 'Runge-Kutta'\n",
    "plt.title('Runge-Kutta')\n",
    "#\\\\ save the plot as a .png file\n",
    "plt.savefig('Runge-Kutta.png')"
   ]
  },
  {
   "cell_type": "code",
   "execution_count": 29,
   "id": "16bc25d8-b194-4024-b404-9d3876b93fea",
   "metadata": {},
   "outputs": [
    {
     "data": {
      "text/plain": [
       "[<matplotlib.lines.Line2D at 0x7f21aa034370>]"
      ]
     },
     "execution_count": 29,
     "metadata": {},
     "output_type": "execute_result"
    },
    {
     "data": {
      "image/png": "[encoded data removed]",
      "text/plain": [
       "<Figure size 432x288 with 1 Axes>"
      ]
     },
     "metadata": {
      "needs_background": "light"
     },
     "output_type": "display_data"
    }
   ],
   "source": [
    "# phase space attempt\n",
    "\n",
    "plt.plot(T_e,h_w)"
   ]
  },
  {
   "cell_type": "code",
   "execution_count": 28,
   "id": "2d6aea6f-81dc-4d87-af75-0f3d32d1cae7",
   "metadata": {},
   "outputs": [],
   "source": [
    "# code for the Runge-Kutta function\n",
    "def runge_kutta_implement(T_init, h_init, mu, R, gamma, e_n, xi_1, xi_2, dt, nt):\n",
    "    \"\"\"Fourth-order iterative Runge-Kutta scheme for modelling the ocean recharge oscillator model. Takes T, the initial SST anomaly, h, the initial thermocline depth scale, mu, the coupling value, R, the bjerknes positive feedback, gamma, the feedback of the thermocline gradient on the SST gradient , e_n, the degree of nonlinearity xi_1 and xi_2, the random wind stress and random heating added to the system, dt, the time step size and nt, the number of time steps.\"\"\"\n",
    "\n",
    "    # initialize arrays to store the results\n",
    "    time = np.zeros(nt)\n",
    "    T_e = np.zeros(nt)\n",
    "    h_w = np.zeros(nt)\n",
    "\n",
    "    # set the initial conditions\n",
    "    T_e = T_init\n",
    "    h_w = h_init\n",
    "\n",
    "    # create empty lists to store T_e and h_w values\n",
    "    T_e_list = []\n",
    "    h_w_list = []\n",
    "\n",
    "    # append initial values to lists\n",
    "    T_e_list.append(T_e)\n",
    "    h_w_list.append(h_w)\n",
    "    \n",
    "    # step forward in time with the implementation of the Runge-Kutta scheme\n",
    "    for i in range(1,nt):\n",
    "\n",
    "        # time variable\n",
    "        time[i] = i * dt\n",
    "\n",
    "        # implement RK4O scheme\n",
    "        # not completely sure about the ordering of these\n",
    "        \n",
    "        T_e, h_w = runge_kutta(T_e, h_w, mu, R, gamma, e_n, xi_1, xi_2, dt, nt)\n",
    "\n",
    "        T_e_list.append(T_e)\n",
    "        h_w_list.append(h_w)\n",
    "        \n",
    "    return T_e_list, h_w_list, time        "
   ]
  },
  {
   "cell_type": "code",
   "execution_count": 30,
   "id": "6f963370-7240-4ccf-ad5e-19ec0401aa4a",
   "metadata": {},
   "outputs": [],
   "source": [
    "# try the new runge-kutte scheme\n",
    "# define f in the first instance\n",
    "\n",
    "#def f(T, h):\n",
    "    \"\"\"Function to calculate the derivative of the system of equations\n",
    "    for the ocean recharge oscillator model. Takes T, the SST anomaly, h, the thermocline\n",
    "    depth scale, t, the time scale, mu, the coupling value, R, the bjerknes\n",
    "    positive feedback, gamma, the feedback of the thermocline gradient on\n",
    "    the SST gradient and dt, the time step size, e_n, the degree of nonlinearity\n",
    "    xi_1 and xi_2, the random wind stress and random heating added to the system.\"\"\"\n",
    "\n",
    "    # calculate the derivative of T\n",
    "    dTdt = R*T + gamma*h + xi_1 + xi_2\n",
    "\n",
    "    # calculate the derivative of h\n",
    "    dhdt = r*h + alpha*b*T + xi_1 + xi_2\n",
    "\n",
    "    return dTdt, dhdt"
   ]
  },
  {
   "cell_type": "code",
   "execution_count": 34,
   "id": "c179b542-e232-4bd2-8ec2-4e676d150ab3",
   "metadata": {},
   "outputs": [],
   "source": [
    "# now implement the runge kutte scheme\n",
    "\n",
    "#def runge_kutta():\n",
    "    \"\"\"Runge-Kutta scheme for solving the ocean recharge oscillator\n",
    "    model using finite differences. Takes T, the SST anomaly, h, the thermocline\n",
    "    depth scale, t, the time scale, mu, the coupling value, R, the bjerknes\n",
    "    positive feedback, gamma, the feedback of the thermocline gradient on\n",
    "    the SST gradient and dt, the time step size, e_n, the degree of nonlinearity\n",
    "    xi_1 and xi_2, the random wind stress and random heating added to the system.\"\"\"\n",
    "\n",
    "    # specify the initial conditions\n",
    "    T = 1.125\n",
    "    h = 0\n",
    "\n",
    "    # specify the timestep\n",
    "    dt = 1\n",
    "\n",
    "    # specify the number of time steps\n",
    "    nt = 100\n",
    "\n",
    "    # initialize arrays to store the results\n",
    "    time = np.zeros(nt)\n",
    "    T_e = np.zeros(nt)\n",
    "    h_w = np.zeros(nt)\n",
    "\n",
    "    # set the initial conditions\n",
    "    T_e[0] = T\n",
    "    h_w[0] = h\n",
    "\n",
    "    # loop over all time steps\n",
    "    for n in range(1, nt):\n",
    "        #\\\\ the time stepping schme for the four step runge-kutta method\n",
    "        time[n] = n * int(dt)\n",
    "        k1 = int(dt) * f(T_e[n-1], h_w[n-1])\n",
    "        k2 = int(dt) * f(T_e[n-1] + 0.5*k1, h_w[n-1] + 0.5*k1)\n",
    "        k3 = int(dt) * f(T_e[n-1] + 0.5*k2, h_w[n-1] + 0.5*k2)\n",
    "        k4 = int(dt) * f(T_e[n-1] + k3, h_w[n-1] + k3)\n",
    "        T_e[n] = T_e[n-1] + (1/6)*(k1 + 2*k2 + 2*k3 + k4)\n",
    "\n",
    "    return T_e, h_w, time"
   ]
  },
  {
   "cell_type": "markdown",
   "id": "2bed0402-630e-489d-89fc-3df6fcde8c77",
   "metadata": {},
   "source": [
    "Now we want to try to run this explict euler code to generate two plots, one for phase space and the other for the time series. First plot the time series, which is simply how the SST anomaly (T) and thermocline depth (h) vary with time. Then plot the phase space, which is the SST anomaly (T) plotted against the thermocline depth (h) or vice versa."
   ]
  },
  {
   "cell_type": "code",
   "execution_count": 35,
   "id": "aad1d65c-e520-4d85-a6d4-57ab65dc7b85",
   "metadata": {},
   "outputs": [
    {
     "ename": "TypeError",
     "evalue": "can't multiply sequence by non-int of type 'float'",
     "output_type": "error",
     "traceback": [
      "\u001b[0;31m---------------------------------------------------------------------------\u001b[0m",
      "\u001b[0;31mTypeError\u001b[0m                                 Traceback (most recent call last)",
      "Input \u001b[0;32mIn [35]\u001b[0m, in \u001b[0;36m<cell line: 17>\u001b[0;34m()\u001b[0m\n\u001b[1;32m     15\u001b[0m sst_anomaly_ab, thermocline_depth_ab, time_ab \u001b[38;5;241m=\u001b[39m adams_bashforth(T_init, h_init, mu, R, gamma, e_n, xi_1, xi_2, dt, nt)\n\u001b[1;32m     16\u001b[0m sst_anomaly_tz, thermocline_depth_tz, time_tz \u001b[38;5;241m=\u001b[39m trapezoidal(T_init, h_init, mu, R, gamma, e_n, xi_1, xi_2, dt, nt)\n\u001b[0;32m---> 17\u001b[0m sst_anomaly_rk, thermocline_depth_rk, time_rk \u001b[38;5;241m=\u001b[39m \u001b[43mrunge_kutta\u001b[49m\u001b[43m(\u001b[49m\u001b[43m)\u001b[49m\n\u001b[1;32m     19\u001b[0m \u001b[38;5;66;03m#print(sst_anomaly_rk)\u001b[39;00m\n\u001b[1;32m     20\u001b[0m \n\u001b[1;32m     21\u001b[0m \u001b[38;5;66;03m#print(thermocline_depth_rk)\u001b[39;00m\n\u001b[1;32m     22\u001b[0m \n\u001b[1;32m     23\u001b[0m \u001b[38;5;66;03m# quick euler time series plot\u001b[39;00m\n\u001b[1;32m     24\u001b[0m plt\u001b[38;5;241m.\u001b[39mplot(time, sst_anomaly_rk, \u001b[38;5;124m'\u001b[39m\u001b[38;5;124mr-\u001b[39m\u001b[38;5;124m'\u001b[39m)\n",
      "Input \u001b[0;32mIn [34]\u001b[0m, in \u001b[0;36mrunge_kutta\u001b[0;34m()\u001b[0m\n\u001b[1;32m     33\u001b[0m time[n] \u001b[38;5;241m=\u001b[39m n \u001b[38;5;241m*\u001b[39m \u001b[38;5;28mint\u001b[39m(dt)\n\u001b[1;32m     34\u001b[0m k1 \u001b[38;5;241m=\u001b[39m \u001b[38;5;28mint\u001b[39m(dt) \u001b[38;5;241m*\u001b[39m f(T_e[n\u001b[38;5;241m-\u001b[39m\u001b[38;5;241m1\u001b[39m], h_w[n\u001b[38;5;241m-\u001b[39m\u001b[38;5;241m1\u001b[39m])\n\u001b[0;32m---> 35\u001b[0m k2 \u001b[38;5;241m=\u001b[39m \u001b[38;5;28mint\u001b[39m(dt) \u001b[38;5;241m*\u001b[39m f(T_e[n\u001b[38;5;241m-\u001b[39m\u001b[38;5;241m1\u001b[39m] \u001b[38;5;241m+\u001b[39m \u001b[38;5;241;43m0.5\u001b[39;49m\u001b[38;5;241;43m*\u001b[39;49m\u001b[43mk1\u001b[49m, h_w[n\u001b[38;5;241m-\u001b[39m\u001b[38;5;241m1\u001b[39m] \u001b[38;5;241m+\u001b[39m \u001b[38;5;241m0.5\u001b[39m\u001b[38;5;241m*\u001b[39mk1)\n\u001b[1;32m     36\u001b[0m k3 \u001b[38;5;241m=\u001b[39m \u001b[38;5;28mint\u001b[39m(dt) \u001b[38;5;241m*\u001b[39m f(T_e[n\u001b[38;5;241m-\u001b[39m\u001b[38;5;241m1\u001b[39m] \u001b[38;5;241m+\u001b[39m \u001b[38;5;241m0.5\u001b[39m\u001b[38;5;241m*\u001b[39mk2, h_w[n\u001b[38;5;241m-\u001b[39m\u001b[38;5;241m1\u001b[39m] \u001b[38;5;241m+\u001b[39m \u001b[38;5;241m0.5\u001b[39m\u001b[38;5;241m*\u001b[39mk2)\n\u001b[1;32m     37\u001b[0m k4 \u001b[38;5;241m=\u001b[39m \u001b[38;5;28mint\u001b[39m(dt) \u001b[38;5;241m*\u001b[39m f(T_e[n\u001b[38;5;241m-\u001b[39m\u001b[38;5;241m1\u001b[39m] \u001b[38;5;241m+\u001b[39m k3, h_w[n\u001b[38;5;241m-\u001b[39m\u001b[38;5;241m1\u001b[39m] \u001b[38;5;241m+\u001b[39m k3)\n",
      "\u001b[0;31mTypeError\u001b[0m: can't multiply sequence by non-int of type 'float'"
     ]
    }
   ],
   "source": [
    "# plot the time series\n",
    "# x-axis is just time\n",
    "# then need two y-axes - one for SST anomaly and one for thermocline depth\n",
    "\n",
    "# set the initial conditions\n",
    "T_init = 1.125 # initial SST in kelvin\n",
    "h_init = 0 # initial depth anomaly\n",
    "\n",
    "# set standard dt and nt for all of the implementations\n",
    "dt = 1 # size of time step\n",
    "nt = 100 # number of time steps\n",
    "\n",
    "# run each of the implmentations\n",
    "sst_anomaly, thermocline_depth, time = euler(T_init, h_init, mu, R, gamma, e_n, xi_1, xi_2, dt, nt)\n",
    "sst_anomaly_ab, thermocline_depth_ab, time_ab = adams_bashforth(T_init, h_init, mu, R, gamma, e_n, xi_1, xi_2, dt, nt)\n",
    "sst_anomaly_tz, thermocline_depth_tz, time_tz = trapezoidal(T_init, h_init, mu, R, gamma, e_n, xi_1, xi_2, dt, nt)\n",
    "sst_anomaly_rk, thermocline_depth_rk, time_rk = runge_kutta()\n",
    "\n",
    "#print(sst_anomaly_rk)\n",
    "\n",
    "#print(thermocline_depth_rk)\n",
    "\n",
    "# quick euler time series plot\n",
    "plt.plot(time, sst_anomaly_rk, 'r-')\n",
    "plt.plot(time, thermocline_depth_rk, 'b-')\n",
    "\n",
    "# gather the data\n",
    "#data = [(sst_anomaly, thermocline_depth, time), (sst_anomaly_ab, thermocline_depth_ab, time_ab), (sst_anomaly_tz, thermocline_depth_tz, time_tz)] \n",
    "        \n",
    "        #(sst_anomaly_rk, thermocline_depth_rk, time_rk)] \n",
    "\n",
    "# set up the subplot labels\n",
    "#sp_labels = ['Explicit Euler', 'Adams-Bashforth', 'Trapezoidal'] # 'Runge-Kutta']\n",
    "\n",
    "# Create the figure and axes\n",
    "#fig, axes = plt.subplots(3,1)\n",
    "\n",
    "#for i, ax in enumerate(axes.flat):\n",
    "#    sst_anomaly, thermocline_depth, time = data[i]\n",
    "#    ax.plot(time, sst_anomaly, 'r-')\n",
    "#    ax.set_ylabel('SST Anomaly (T)', color='r')\n",
    "#    ax.tick_params(axis='y', labelcolor='r')\n",
    "#    #ax.set_ylim(np.min(sst_anomaly),np.max(sst_anomaly))\n",
    "#    ax2 = ax.twinx()\n",
    "#    ax2.plot(time, thermocline_depth, 'b-.')\n",
    "#    ax2.set_ylabel('Thermocline Depth (h)', color='b')\n",
    "#    ax2.tick_params(axis='y', labelcolor='b')\n",
    "#    #ax2.set_ylim(np.min(thermocline_depth),np.max(thermocline_depth))\n",
    "#    plt.xlabel('Time')\n",
    "#    ax.set_title(sp_labels[i])\n",
    "\n",
    "# ensure that labels don't overlap\n",
    "plt.tight_layout()\n",
    "\n",
    "# Show the plot\n",
    "plt.show()\n"
   ]
  },
  {
   "cell_type": "markdown",
   "id": "84bca645-636a-43d5-8cec-c3fa2e401865",
   "metadata": {},
   "source": [
    "Time series appears to show an exponential increase - explicit euler is unstable?"
   ]
  },
  {
   "cell_type": "code",
   "execution_count": 19,
   "id": "73046337-f5e7-4888-b3b3-638906e9fa9b",
   "metadata": {},
   "outputs": [
    {
     "data": {
      "image/png": "[encoded data removed]",
      "text/plain": [
       "<Figure size 432x288 with 1 Axes>"
      ]
     },
     "metadata": {
      "needs_background": "light"
     },
     "output_type": "display_data"
    }
   ],
   "source": [
    "# now write up the code for the phase space plot\n",
    "# Create the phase space plot\n",
    "\n",
    "#fig, axes = plt.subplots(nrows=2, ncols=2)\n",
    "\n",
    "#for i, ax in enumerate(axes.flat):\n",
    "    #sst_anomaly, thermocline_depth, time = data[i]\n",
    "    #ax.plot(sst_anomaly, thermocline_depth)\n",
    "    #ax.set_xlabel('SST Anomaly (K)')\n",
    "    #ax.set_ylabel('Thermocline Depth (m)')\n",
    "    #ax.set_title(sp_labels[i])\n",
    "\n",
    "# quick euler phase space plot\n",
    "plt.plot(sst_anomaly_rk, thermocline_depth_rk)\n",
    "    \n",
    "# specify tight layout\n",
    "plt.tight_layout()\n",
    "\n",
    "# Show the plot\n",
    "plt.show()"
   ]
  },
  {
   "cell_type": "markdown",
   "id": "fc3de5be-27ca-4bac-ac4d-4c8090ac97b8",
   "metadata": {},
   "source": [
    "Phase space plot not showing any cycles either - instabilty of tyhe explicit euler scehme?"
   ]
  },
  {
   "cell_type": "code",
   "execution_count": null,
   "id": "e8c3e1d0-9e75-4199-8774-a7132435dd51",
   "metadata": {},
   "outputs": [],
   "source": [
    "nt = 10\n",
    "\n",
    "\n",
    "k_list = ['k_'+str(i) for i in range(1,5)]\n",
    "l_list = ['l_'+str(i) for i in range(1,5)]\n",
    "\n",
    "for k,l in zip(k_list,l_list):\n",
    "    exec(f\"{k} = np.zeros(nt)\")\n",
    "    exec(f\"{l} = np.zeros(nt)\")\n",
    "\n",
    "\n",
    "print(k_1)\n",
    "print(k_2)\n",
    "print(k_3)\n",
    "print(k_4)\n",
    "\n",
    "print(l_1)\n",
    "print(l_2)\n",
    "print(l_3)\n",
    "print(l_4)"
   ]
  },
  {
   "cell_type": "markdown",
   "id": "1f28b56d-6605-4113-a348-52c991ce8d83",
   "metadata": {},
   "source": [
    "# References #\n",
    "\n",
    "Jin, F.-F., 1997a. An Equatorial Ocean Recharge Paradigm for ENSO. Part I: Conceptual Model. J. Atmos. Sci. 54, 811–829. https://doi.org/10.1175/1520-0469(1997)054<0811:AEORPF>2.0.CO;2\n",
    "\n",
    "Jin, F.-F., 1997b. An Equatorial Ocean Recharge Paradigm for ENSO. Part II: A Stripped-Down Coupled Model. Journal of the Atmospheric Sciences 54, 830–847. https://doi.org/10.1175/1520-0469(1997)054<0830:AEORPF>2.0.CO;2\n",
    "\n"
   ]
  }
 ],
 "metadata": {
  "kernelspec": {
   "display_name": "Python 3 + Jaspy",
   "language": "python",
   "name": "jaspy"
  },
  "language_info": {
   "codemirror_mode": {
    "name": "ipython",
    "version": 3
   },
   "file_extension": ".py",
   "mimetype": "text/x-python",
   "name": "python",
   "nbconvert_exporter": "python",
   "pygments_lexer": "ipython3",
   "version": "3.10.5"
  }
 },
 "nbformat": 4,
 "nbformat_minor": 5
}
