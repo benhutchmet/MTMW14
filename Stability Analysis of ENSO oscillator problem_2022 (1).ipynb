{
 "cells": [
  {
   "cell_type": "code",
   "execution_count": 1,
   "metadata": {
    "collapsed": true
   },
   "outputs": [],
   "source": [
    "%matplotlib inline \n",
    "exec(open(\"./stability.py\").read()) "
   ]
  },
  {
   "cell_type": "markdown",
   "metadata": {},
   "source": [
    "# Stability analysis of the ENSO oscillator problem\n",
    "\n",
    "Eingenvalue stability analysis is useful, at times more useful than the methods used for stability analysis so far, because we are not restricted to thinking about the problem in the limit $\\Delta t \\rightarrow 0$, which is something we cannot afford. Instead, we will consider a finite $\\Delta t$, which we must choose for our numerical scheme.\n",
    "\n",
    "The problem you were set with Jin's paper is governed by two coupled ODEs:\n",
    "\n",
    "$$\\frac{dT}{dt} = RT + \\gamma h - \\epsilon (h+bT)^3 + \\gamma\\xi \\qquad$$\n",
    "$$\\frac{dh}{dt} = -rh - \\alpha bT - \\alpha\\xi \\qquad  ~~~~~~~~~~~~  (1)     $$ \n",
    "\n",
    "To understand the stabiliy of this sytem, we consider first the **analytical solutions** for the (simplest) linear case: the coupling coefficient $\\mu$ is a constant between 0-1; no non-linearity ($\\epsilon=0$), nor wind forcing ($\\xi=0$). \n",
    "\n",
    "$$\\frac{dT}{dt} = RT + \\gamma h \\qquad ~~~~~~~~~~~~~~~~~~$$\n",
    "$$\\frac{dh}{dt} = -rh - \\alpha bT \\qquad ~~~~~~~~~(2)$$ \n",
    "\n",
    "\n",
    "With these simplifications the system in (1) can be thought as a general problem in which, for a vector $\\pmb{u}$, we have:\n",
    "$$\\frac{d\\pmb{u}}{dt} = M\\pmb{u} \\qquad $$\n",
    "In our specific case, $\\pmb{u}$ has dimension 2 and the tuple $(T,h)$ are its elements, so that:\n",
    "\n",
    "$$\\frac{d}{dt} \\begin{bmatrix}\n",
    "           T \\\\\n",
    "           h \\\\\n",
    "         \\end{bmatrix} = M \\begin{bmatrix}\n",
    "           T \\\\\n",
    "           h \\\\\n",
    "         \\end{bmatrix} \\qquad $$\n",
    "\n",
    "where:\n",
    "$$ M  = \\begin{bmatrix}\n",
    "            R  ~~~~~~~ \\gamma  \\\\\n",
    "            -\\alpha b ~~ -r \\\\\n",
    "         \\end{bmatrix} \\qquad $$\n",
    "\n",
    "\n",
    "In general, the matrix M will not be diagonal, so that the components of the linearised system above will be coupled. One way to analyse the stability behaviour of this system is to use eigenvalue analysis (see the other notebook). Here we shall undertake an analytical approach.\n",
    "\n",
    "Any variable $\\phi(x,t)$ (thus dependent on space and time)  can be represented as a function of *wavenumber* $k$ and *frequency* $\\omega$, for instance via a Fourier transformation:\n",
    "\n",
    "$$ \\phi(x,t) = \\int_{-\\infty}^{\\infty}\\int_{-\\infty}^{\\infty} \\tilde{\\phi}(\\kappa, \\omega) e^{i(\\omega t + \\kappa x)} ~d \\kappa ~d\\omega $$\n",
    "\n",
    "In our current problem (ENSO oscillator) we only have time dependence. Let us therefore use a solution of the type: $\\phi(t) = \\tilde{\\phi(\\omega)} e^{i\\omega \\tau \\Delta t}$, where time $t=\\tau \\Delta t$. This means that any time $t$ in the future can be reached in a number ($\\tau$) of time steps $\\Delta t$. If, once we have discretised in time, we aim to step trom $\\tau=n$ to $\\tau=n+1$, all terms in our equations will contain a common exponential of the type: $e^{i\\omega n \\Delta t}$, which will cancel out, and only terms of type $e^{i\\omega \\Delta t}$, expressing the change in a single time step, will remain.\n",
    "\n",
    "Therefore, from now on, to simplify our notation, we shall use this very useful shorthand in time:\n",
    "\n",
    "$$\\psi^1=e^{i\\omega \\Delta t}$$ \n",
    "\n",
    "A similar notation is applied in space, useful for future analyses, albeit not needed here!\n",
    "$$\\psi_1=e^{i\\kappa \\Delta x}$$\n",
    "$$\\psi_{-1}=e^{-i\\kappa \\Delta x}$$\n",
    "\n",
    "Further, we must remember that $\\omega=\\omega_r+i\\omega_i$ is a complex number, so that: $e^{i\\omega t}=e^{i(\\omega_r+i\\omega_i)t}=e^{- \\omega_i t} e^{i \\omega_r t}$.\n",
    "\n",
    "**It is therefore the imaginary term, $\\omega_i$, that determines whether or not our solution grows in time ($\\omega_i \\gt 0$) or decays in time ($\\omega_i \\lt 0$)**. We use the symbol $\\lambda$ to express this change of amplitude in a single time step:\n",
    "\n",
    "$$\\lambda = e^{- \\omega_i \\Delta t}$$\n",
    "\n",
    "If we apply this framework to the the analysis of the stability of equation 1, after discretising in time with the **forward in time (Euler)** time scheme, and using all the notation introduced above, we end up with this system:\n",
    "\n",
    "$$ (\\psi^1 -1 -R \\Delta t) \\hat{T} ~~ - \\gamma \\Delta t \\hat{h} = 0 \\qquad     \\\\\n",
    "   ~~~~~~(\\psi^1 -1 +r \\Delta t) \\hat{h} ~~ + \\alpha b \\Delta t \\hat{T} = 0 \\qquad (3)$$\n",
    "\n",
    "or, in matrix form:\n",
    "\n",
    "$$\\begin{bmatrix}\n",
    "           (\\psi^1 -1 -R \\Delta t) ~~~~~~~~~~~~~~~ - \\gamma \\Delta t \\\\\n",
    "             \\alpha b \\Delta t     ~~~~~~~~~~~~~~~~~~~  (\\psi^1 -1 +r \\Delta t)\\\\\n",
    "         \\end{bmatrix}  \\begin{bmatrix}\n",
    "           \\hat{T} \\\\\n",
    "           \\hat{h} \\\\\n",
    "         \\end{bmatrix}\n",
    "         = 0\n",
    "         \\qquad (4)$$\n",
    "\n",
    "\n",
    "The only non-trivial solution to equation 4 will be found when the determinant of the matrix is zero. After a bit of algebra we end up with:\n",
    "\n",
    "$$ {\\psi^1}^2 + ((r-R) \\Delta t -2)\\psi^1 + 1 - (r-R) \\Delta t  -Rr {\\Delta t}^2  +\\alpha\\gamma b {\\Delta t}^2=0 $$ \n",
    "\n",
    "Solving for ${\\psi^1}$ and after a bit of simplification we find:\n",
    "\n",
    "$$ {\\psi^1} =  \\frac {2 - A \\pm  \\sqrt{A^2  - 4C}}{2}$$\n",
    "\n",
    "where $A= (r-R) \\Delta t$ and $C= (-Rr +\\alpha \\gamma b) {\\Delta t}^2$\n",
    "\n",
    "This expression simplifies greatly for the neutral value of $\\mu = \\frac {2}{3}$, for which $A=0$, and:\n",
    "\n",
    "$${\\psi^1}= 1 \\pm \\Delta t \\sqrt{-(\\alpha\\gamma b -Rr)} $$\n",
    "\n",
    "Splitting the imaginary and real parts of this equation (remember that $e^{i \\omega_r \\Delta t} = \\cos \\omega_r \\Delta t + i \\sin \\omega_r \\Delta t$):\n",
    "\n",
    "$$\\lambda \\cos \\omega_r \\Delta t = 1 \\\\\n",
    "  \\lambda \\sin \\omega_r \\Delta t = \\pm \\Delta t \\sqrt{\\alpha\\gamma b -Rr} \\qquad (5)$$\n",
    "\n",
    "Taking the squares of both equations and summing tells us that $\\lambda^2 = 1+ ({\\alpha\\gamma b -Rr})\\Delta t^2 $, so that $\\lambda\\gt 1$, which means that the Euler time scheme is unconditionally unstable for this problem.\n"
   ]
  },
  {
   "cell_type": "markdown",
   "metadata": {},
   "source": [
    "## Stability analysis of the Euler scheme using SimPy\n",
    "It is possible to repeat all of the above with a little help from SimPy. Careful that the parser has trouble with R and r, at times displaying it all as $R^2$, but it does not matter in the case of $\\mu=2/3$."
   ]
  },
  {
   "cell_type": "code",
   "execution_count": 2,
   "metadata": {},
   "outputs": [
    {
     "data": {
      "text/latex": [
       "$\\displaystyle {Matrix}\\ M:\\ \\left[\\begin{matrix}- Dt R + \\Psi - 1 & - Dt \\gamma\\\\Dt \\alpha b & Dt R + \\Psi - 1\\end{matrix}\\right]$"
      ],
      "text/plain": [
       "<IPython.core.display.Math object>"
      ]
     },
     "metadata": {},
     "output_type": "display_data"
    },
    {
     "name": "stdout",
     "output_type": "stream",
     "text": [
      " \n"
     ]
    },
    {
     "data": {
      "text/latex": [
       "$\\displaystyle \\Psi \\ positive\\ solution:\\ Dt \\sqrt{R^{2} - \\alpha b \\gamma} + 1$"
      ],
      "text/plain": [
       "<IPython.core.display.Math object>"
      ]
     },
     "metadata": {},
     "output_type": "display_data"
    },
    {
     "data": {
      "text/latex": [
       "$\\displaystyle \\Psi \\ negative\\ solution:\\ - Dt \\sqrt{R^{2} - \\alpha b \\gamma} + 1$"
      ],
      "text/plain": [
       "<IPython.core.display.Math object>"
      ]
     },
     "metadata": {},
     "output_type": "display_data"
    },
    {
     "name": "stdout",
     "output_type": "stream",
     "text": [
      " \n"
     ]
    },
    {
     "data": {
      "text/latex": [
       "$\\displaystyle Analytic\\ expression\\ for\\ \\lambda^2 :\\  Dt^{2} \\left(- R r + \\alpha b \\gamma\\right) + 1$"
      ],
      "text/plain": [
       "<IPython.core.display.Math object>"
      ]
     },
     "metadata": {},
     "output_type": "display_data"
    },
    {
     "name": "stdout",
     "output_type": "stream",
     "text": [
      " \n"
     ]
    },
    {
     "data": {
      "text/latex": [
       "$\\displaystyle Value\\ of\\ \\lambda^2 \\ for\\ Euler:\\  0.4765625 Dt^{2} + 1$"
      ],
      "text/plain": [
       "<IPython.core.display.Math object>"
      ]
     },
     "metadata": {},
     "output_type": "display_data"
    }
   ],
   "source": [
    "from IPython.display import display, Latex, Math\n",
    "import sympy\n",
    "from sympy import *\n",
    "from sympy.matrices import Matrix\n",
    "init_printing(use_latex='mathjax')\n",
    "# EULER SCHEME\n",
    "Psi = sympy.symbols('Psi')             # these are the symbols to solve for\n",
    "R, Dt, gamma, alpha, b, r = sympy.var('R, Dt, gamma, alpha, b, r')  # \n",
    "#M=Matrix(([[Psi-1-R*Dt,-gamma*Dt],[alpha*b*Dt,Psi-1+r*Dt]]))\n",
    "M=Matrix(([[Psi-1-R*Dt,-gamma*Dt],[alpha*b*Dt,Psi-1+R*Dt]])) # special case of mu=2/3 so R=r\n",
    "\n",
    "display(Math(\"{Matrix}\\ M:\\ \" + latex(M)))\n",
    "\n",
    "equation=M.det()\n",
    "Solution=solve(equation,Psi)\n",
    "#pprint(Solution)\n",
    "Psi_plus=Solution[1]\n",
    "Psi_minus=Solution[0]\n",
    "\n",
    "print(\" \")\n",
    "display(Math(\"\\Psi \\ positive\\ solution:\\ \" + latex(Psi_plus)))\n",
    "display(Math(\"\\Psi \\ negative\\ solution:\\ \" + latex(Psi_minus)))\n",
    "\n",
    "print(\" \")\n",
    "mu=2./3.\n",
    "b_0=2.5\n",
    "b_val=b_0/mu\n",
    "gamma_val=0.75\n",
    "alpha_val=0.25\n",
    "r_val=0.125\n",
    "c_val=1.0\n",
    "R_val=gamma_val*b_val - c_val\n",
    "\n",
    "Psi_solution_plus  = Psi_plus.subs([(R,R_val), (r,r_val)])\n",
    "Psi_solution_minus = Psi_minus.subs([(R,R_val), (r,r_val)])\n",
    "\n",
    "lambda_squared = 1 + (alpha*gamma*b -R*r)*Dt**2\n",
    "\n",
    "display(Math(\"Analytic\\ expression\\ for\\ \\lambda^2 :\\  \" + latex(lambda_squared)))\n",
    "lambda_square_solution = lambda_squared.subs([(R,R_val), (r,r_val),(alpha,alpha_val), (gamma, gamma_val), (b,b_val)])\n",
    "print(\" \")\n",
    "display(Math(\"Value\\ of\\ \\lambda^2 \\ for\\ Euler:\\  \" + latex(lambda_square_solution)))"
   ]
  },
  {
   "cell_type": "markdown",
   "metadata": {},
   "source": [
    "## Stability analysis of the modified Euler scheme (Matsuno scheme)\n",
    "Use the forward solution for the first line in equation 1 (for $\\frac{dT}{dt}$) and substitute into the second line of equation 1 (for $\\frac{dh}{dt}$). This gives us a scheme with the flavour of an implicit-in-time scheme (remember the Matsuno scheme?). Try now to substitute the relevant $\\psi^1$ terms in the analysis above, and see whether this technique leads to a more stable scheme in time."
   ]
  },
  {
   "cell_type": "markdown",
   "metadata": {},
   "source": [
    "## Stability analysis of the Runge-Kutta scheme\n",
    "Try now to substitute the 1st and 2nd order RK scheme in the analysis above."
   ]
  },
  {
   "cell_type": "code",
   "execution_count": null,
   "metadata": {
    "collapsed": true
   },
   "outputs": [],
   "source": []
  }
 ],
 "metadata": {
  "anaconda-cloud": {},
  "kernelspec": {
   "display_name": "Python 3 (ipykernel)",
   "language": "python",
   "name": "python3"
  },
  "language_info": {
   "codemirror_mode": {
    "name": "ipython",
    "version": 3
   },
   "file_extension": ".py",
   "mimetype": "text/x-python",
   "name": "python",
   "nbconvert_exporter": "python",
   "pygments_lexer": "ipython3",
   "version": "3.8.5"
  }
 },
 "nbformat": 4,
 "nbformat_minor": 1
}
